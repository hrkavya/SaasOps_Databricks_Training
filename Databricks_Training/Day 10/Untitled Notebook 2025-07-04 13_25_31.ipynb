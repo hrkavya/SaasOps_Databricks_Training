{
 "cells": [
  {
   "cell_type": "code",
   "execution_count": 0,
   "metadata": {
    "application/vnd.databricks.v1+cell": {
     "cellMetadata": {
      "byteLimit": 2048000,
      "rowLimit": 10000
     },
     "inputWidgets": {},
     "nuid": "175f960a-c24b-470c-8110-e0e1abd656d1",
     "showTitle": false,
     "tableResultSettingsMap": {},
     "title": ""
    }
   },
   "outputs": [],
   "source": [
    "%python\n",
    "schema=[\"name\", \"subject\", \"Marks\", \"Attendance\"]\n",
    "\n",
    "student_data=[(\"John\",\"Math\", 90, 80),(\"Michael\", \"Science\", 70, None), (\"David\", \"History\", 50,40), (\"Kelvin\", \"Computer\", 40,None ),(\"Paul\", \"GEO\", None, None), (None,None,  None, None),(\"John\",\"Math\", 90, 80),(\"John\",\"Math\", 90, 80),(None,None,  None, None),(None,None,  None, None),(None,None,  None, None),(None,\"Math\", 90, 80),('Naval',None, 90, 80) ]\n",
    "\n",
    "df=spark.createDataFrame(data=student_data, schema=schema)\n",
    "display(df)"
   ]
  },
  {
   "cell_type": "code",
   "execution_count": 0,
   "metadata": {
    "application/vnd.databricks.v1+cell": {
     "cellMetadata": {},
     "inputWidgets": {},
     "nuid": "d8a25b34-ea08-40c4-a551-b37da4504c2d",
     "showTitle": false,
     "tableResultSettingsMap": {},
     "title": ""
    }
   },
   "outputs": [],
   "source": [
    "nulls in all records-- delete\n",
    "null in name col == fill it with no name\n",
    "null in subject-=== fill it with Data&AI\n",
    "null in marks and attendance == fill it with 45"
   ]
  },
  {
   "cell_type": "code",
   "execution_count": 0,
   "metadata": {
    "application/vnd.databricks.v1+cell": {
     "cellMetadata": {
      "byteLimit": 2048000,
      "rowLimit": 10000
     },
     "inputWidgets": {},
     "nuid": "c4ddb46e-bfe9-4eae-a035-92753fa6f930",
     "showTitle": false,
     "tableResultSettingsMap": {},
     "title": ""
    }
   },
   "outputs": [],
   "source": [
    "%python\n",
    "df1 = df.dropDuplicates().fillna({'Name':'No name','Marks': 45, 'Attendance': 45,'Subject': 'Data&AI'})\n",
    "df1.display()"
   ]
  }
 ],
 "metadata": {
  "application/vnd.databricks.v1+notebook": {
   "computePreferences": null,
   "dashboards": [],
   "environmentMetadata": {
    "base_environment": "",
    "environment_version": "2"
   },
   "inputWidgetPreferences": null,
   "language": "sql",
   "notebookMetadata": {
    "pythonIndentUnit": 4
   },
   "notebookName": "Untitled Notebook 2025-07-04 13_25_31",
   "widgets": {}
  },
  "language_info": {
   "name": "sql"
  }
 },
 "nbformat": 4,
 "nbformat_minor": 0
}
